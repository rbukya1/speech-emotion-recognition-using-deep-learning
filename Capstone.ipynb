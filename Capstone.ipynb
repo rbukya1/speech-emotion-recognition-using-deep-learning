{
  "nbformat": 4,
  "nbformat_minor": 0,
  "metadata": {
    "colab": {
      "provenance": []
    },
    "kernelspec": {
      "name": "python3",
      "display_name": "Python 3"
    },
    "language_info": {
      "name": "python"
    }
  },
  "cells": [
    {
      "cell_type": "markdown",
      "source": [
        "Hi there!"
      ],
      "metadata": {
        "id": "kJz1s5C-_pSw"
      }
    },
    {
      "cell_type": "code",
      "source": [],
      "metadata": {
        "id": "8w_LABpj_ubq"
      },
      "execution_count": null,
      "outputs": []
    }
  ]
}