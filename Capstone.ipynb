{
  "nbformat": 4,
  "nbformat_minor": 0,
  "metadata": {
    "colab": {
      "provenance": [],
      "authorship_tag": "ABX9TyNg/+TAXnRWEC0b9yHrqK+X",
      "include_colab_link": true
    },
    "kernelspec": {
      "name": "python3",
      "display_name": "Python 3"
    },
    "language_info": {
      "name": "python"
    }
  },
  "cells": [
    {
      "cell_type": "markdown",
      "metadata": {
        "id": "view-in-github",
        "colab_type": "text"
      },
      "source": [
        "<a href=\"https://colab.research.google.com/github/rbukya1/speech-emotion-recognition-using-deep-learning/blob/main/Capstone.ipynb\" target=\"_parent\"><img src=\"https://colab.research.google.com/assets/colab-badge.svg\" alt=\"Open In Colab\"/></a>"
      ]
    },
    {
      "cell_type": "markdown",
      "source": [
        "Hi there!"
      ],
      "metadata": {
        "id": "kJz1s5C-_pSw"
      }
    },
    {
      "cell_type": "code",
      "source": [
        "import re\n",
        "import pandas as pd\n",
        "import numpy as np\n",
        "import os #to deal with files\n",
        "import seaborn as sns #for visualization\n",
        "import matplotlib.pyplot as plt\n",
        "import librosa #for audio library files\n",
        "import librosa.display\n",
        "from IPython.display import Audio  #to play audio files\n",
        "import warnings\n",
        "warnings.filterwarnings('ignore')"
      ],
      "metadata": {
        "id": "8w_LABpj_ubq"
      },
      "execution_count": 1,
      "outputs": []
    },
    {
      "cell_type": "code",
      "source": [
        "# Paths to\n",
        "Ravdess = \"/Users/rajasreebukya/Desktop/Datasets/Ravdess/audio_speech_actors_01-24\"\n",
        "Crema = \"/Users/rajasreebukya/Desktop/Datasets/Crema\"\n",
        "Savee = \"/Users/rajasreebukya/Desktop/Datasets/Savee\"\n",
        "Tess = \"/Users/rajasreebukya/Desktop/Datasets/Tess\""
      ],
      "metadata": {
        "id": "Fgg_qH15Wyqz"
      },
      "execution_count": 2,
      "outputs": []
    },
    {
      "cell_type": "code",
      "source": [],
      "metadata": {
        "id": "B-q9wZGfnTiB"
      },
      "execution_count": null,
      "outputs": []
    }
  ]
}